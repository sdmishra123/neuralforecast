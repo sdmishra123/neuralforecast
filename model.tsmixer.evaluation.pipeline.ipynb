{
 "cells": [
  {
   "cell_type": "markdown",
   "id": "8a1b0298",
   "metadata": {},
   "source": [
    "# 1. Installing libraries "
   ]
  },
  {
   "cell_type": "code",
   "execution_count": null,
   "id": "8e2d698f",
   "metadata": {},
   "outputs": [],
   "source": [
    "# !pip install neuralforecast datasetsforecast;"
   ]
  },
  {
   "cell_type": "markdown",
   "id": "39ef6532",
   "metadata": {},
   "source": [
    "# 2. Load ETTm2 Data"
   ]
  },
  {
   "cell_type": "code",
   "execution_count": null,
   "id": "70ec5b1e",
   "metadata": {},
   "outputs": [
    {
     "name": "stderr",
     "output_type": "stream",
     "text": [
      "C:\\Users\\dhavy\\AppData\\Local\\Temp\\ipykernel_30528\\156242825.py:1: DeprecationWarning: \n",
      "Pyarrow will become a required dependency of pandas in the next major release of pandas (pandas 3.0),\n",
      "(to allow more performant data types, such as the Arrow string type, and better interoperability with other libraries)\n",
      "but was too old on your system - pyarrow 10.0.1 is the current minimum supported version as of this release.\n",
      "If this would cause problems for you,\n",
      "please provide us feedback at https://github.com/pandas-dev/pandas/issues/54466\n",
      "        \n",
      "  import pandas as pd\n"
     ]
    }
   ],
   "source": [
    "import pandas as pd\n",
    "from datasetsforecast.long_horizon import LongHorizon"
   ]
  },
  {
   "cell_type": "code",
   "execution_count": null,
   "id": "e5965c36",
   "metadata": {},
   "outputs": [
    {
     "data": {
      "text/html": [
       "<div>\n",
       "<style scoped>\n",
       "    .dataframe tbody tr th:only-of-type {\n",
       "        vertical-align: middle;\n",
       "    }\n",
       "\n",
       "    .dataframe tbody tr th {\n",
       "        vertical-align: top;\n",
       "    }\n",
       "\n",
       "    .dataframe thead th {\n",
       "        text-align: right;\n",
       "    }\n",
       "</style>\n",
       "<table border=\"1\" class=\"dataframe\">\n",
       "  <thead>\n",
       "    <tr style=\"text-align: right;\">\n",
       "      <th></th>\n",
       "      <th>unique_id</th>\n",
       "      <th>ds</th>\n",
       "      <th>y</th>\n",
       "    </tr>\n",
       "  </thead>\n",
       "  <tbody>\n",
       "    <tr>\n",
       "      <th>0</th>\n",
       "      <td>HUFL</td>\n",
       "      <td>2016-07-01 00:00:00</td>\n",
       "      <td>-0.041413</td>\n",
       "    </tr>\n",
       "    <tr>\n",
       "      <th>1</th>\n",
       "      <td>HUFL</td>\n",
       "      <td>2016-07-01 00:15:00</td>\n",
       "      <td>-0.185467</td>\n",
       "    </tr>\n",
       "    <tr>\n",
       "      <th>2</th>\n",
       "      <td>HUFL</td>\n",
       "      <td>2016-07-01 00:30:00</td>\n",
       "      <td>-0.257495</td>\n",
       "    </tr>\n",
       "    <tr>\n",
       "      <th>3</th>\n",
       "      <td>HUFL</td>\n",
       "      <td>2016-07-01 00:45:00</td>\n",
       "      <td>-0.577510</td>\n",
       "    </tr>\n",
       "    <tr>\n",
       "      <th>4</th>\n",
       "      <td>HUFL</td>\n",
       "      <td>2016-07-01 01:00:00</td>\n",
       "      <td>-0.385501</td>\n",
       "    </tr>\n",
       "  </tbody>\n",
       "</table>\n",
       "</div>"
      ],
      "text/plain": [
       "  unique_id                  ds         y\n",
       "0      HUFL 2016-07-01 00:00:00 -0.041413\n",
       "1      HUFL 2016-07-01 00:15:00 -0.185467\n",
       "2      HUFL 2016-07-01 00:30:00 -0.257495\n",
       "3      HUFL 2016-07-01 00:45:00 -0.577510\n",
       "4      HUFL 2016-07-01 01:00:00 -0.385501"
      ]
     },
     "execution_count": null,
     "metadata": {},
     "output_type": "execute_result"
    }
   ],
   "source": [
    "# Change this to your own data to try the model\n",
    "Y_df, _, _ = LongHorizon.load(directory='./', group='ETTm2')\n",
    "Y_df['ds'] = pd.to_datetime(Y_df['ds'])\n",
    "\n",
    "n_time = len(Y_df.ds.unique())\n",
    "val_size = int(.2 * n_time)\n",
    "test_size = int(.2 * n_time)\n",
    "\n",
    "Y_df.groupby('unique_id').head(2)\n",
    "Y_df.head()"
   ]
  },
  {
   "cell_type": "markdown",
   "id": "f73f9be9",
   "metadata": {},
   "source": [
    "# 3. Train models"
   ]
  },
  {
   "cell_type": "code",
   "execution_count": null,
   "id": "12e33fcd",
   "metadata": {},
   "outputs": [
    {
     "name": "stderr",
     "output_type": "stream",
     "text": [
      "C:\\Sapna\\Nixtla_Project\\neuralforecast\\neuralforecast\\utils.py:281: FutureWarning: A value is trying to be set on a copy of a DataFrame or Series through chained assignment using an inplace method.\n",
      "The behavior will change in pandas 3.0. This inplace method will never work because the intermediate object on which we are setting values always behaves as a copy.\n",
      "\n",
      "For example, when doing 'df[col].method(value, inplace=True)', try using 'df.method({col: value}, inplace=True)' or df[col] = df[col].method(value) instead, to perform the operation inplace on the original object.\n",
      "\n",
      "\n",
      "  AirPassengersPanel[\"y_[lag12]\"].fillna(AirPassengersPanel[\"y\"], inplace=True)\n"
     ]
    }
   ],
   "source": [
    "import numpy as np\n",
    "import pandas as pd\n",
    "import pytorch_lightning as pl\n",
    "import matplotlib.pyplot as plt\n",
    "\n",
    "from neuralforecast import NeuralForecast\n",
    "from neuralforecast.losses.pytorch import MAE\n",
    "from neuralforecast.core import NeuralForecast\n",
    "from neuralforecast.models import Informer, Autoformer, FEDformer, PatchTST, TSMixer"
   ]
  },
  {
   "cell_type": "code",
   "execution_count": null,
   "id": "4503784d-044a-45ee-acb3-4ddb4b4e4959",
   "metadata": {},
   "outputs": [
    {
     "name": "stderr",
     "output_type": "stream",
     "text": [
      "INFO:lightning_fabric.utilities.seed:Seed set to 1\n"
     ]
    }
   ],
   "source": [
    "models = [TSMixer(h=12,\n",
    "                input_size=12,\n",
    "                n_series=2,\n",
    "                # stat_exog_list=['airline1'],\n",
    "                # futr_exog_list=['trend'],\n",
    "                scaler_type='robust',\n",
    "                max_steps=200,\n",
    "                early_stop_patience_steps=-1,\n",
    "                val_check_steps=10,\n",
    "                learning_rate=1e-3,\n",
    "                loss=MAE(),\n",
    "                valid_loss=None,\n",
    "                batch_size=12,\n",
    "                n_block=1,\n",
    "                ff_dim=64,\n",
    "                target_slice=None\n",
    "                )\n",
    "         ]"
   ]
  },
  {
   "cell_type": "code",
   "execution_count": null,
   "id": "1fb93f18-d6d2-4fd7-b55d-d6565444462f",
   "metadata": {},
   "outputs": [],
   "source": [
    "nf = NeuralForecast(\n",
    "    models=models,\n",
    "    freq='ME')"
   ]
  },
  {
   "cell_type": "code",
   "execution_count": null,
   "id": "6a2d1211-1867-4988-8b1d-f0ffa8c9f114",
   "metadata": {},
   "outputs": [
    {
     "data": {
      "application/vnd.jupyter.widget-view+json": {
       "model_id": "1c87c592de954f739a00d9d4f55f3646",
       "version_major": 2,
       "version_minor": 0
      },
      "text/plain": [
       "Sanity Checking: |                                                                               | 0/? [00:00<…"
      ]
     },
     "metadata": {},
     "output_type": "display_data"
    }
   ],
   "source": [
    "Y_hat_df = nf.cross_validation(df=Y_df,\n",
    "                               val_size=val_size,\n",
    "                               test_size=test_size,\n",
    "                               n_windows=None\n",
    "                              )"
   ]
  },
  {
   "cell_type": "code",
   "execution_count": null,
   "id": "8269f35a-616c-4741-9a58-f9a821d762af",
   "metadata": {},
   "outputs": [],
   "source": [
    "# Y_hat_df.head()"
   ]
  },
  {
   "cell_type": "markdown",
   "id": "fa464bbb",
   "metadata": {},
   "source": [
    "# 4. Evaluate Results"
   ]
  },
  {
   "cell_type": "code",
   "execution_count": null,
   "id": "d2a16d4b",
   "metadata": {},
   "outputs": [],
   "source": [
    "import matplotlib.pyplot as plt"
   ]
  },
  {
   "cell_type": "code",
   "execution_count": null,
   "id": "a3b7ed40",
   "metadata": {},
   "outputs": [],
   "source": [
    "Y_plot = Y_hat_df[Y_hat_df['unique_id']=='OT'] # OT dataset\n",
    "cutoffs = Y_hat_df['cutoff'].unique()[::horizon]\n",
    "Y_plot = Y_plot[Y_hat_df['cutoff'].isin(cutoffs)]\n",
    "\n",
    "plt.figure(figsize=(20,5))\n",
    "plt.plot(Y_plot['ds'], Y_plot['y'], label='True')\n",
    "# plt.plot(Y_plot['ds'], Y_plot['Informer'], label='Informer')\n",
    "# plt.plot(Y_plot['ds'], Y_plot['Autoformer'], label='Autoformer')\n",
    "# plt.plot(Y_plot['ds'], Y_plot['PatchTST'], label='PatchTST')\n",
    "plt.plot(Y_plot['ds'], Y_plot['TSMixer'], label='TSMixer')\n",
    "plt.xlabel('Datestamp')\n",
    "plt.ylabel('OT')\n",
    "plt.grid()\n",
    "plt.legend()"
   ]
  },
  {
   "cell_type": "code",
   "execution_count": null,
   "id": "f89cda19",
   "metadata": {},
   "outputs": [],
   "source": [
    "from neuralforecast.losses.numpy import mae"
   ]
  },
  {
   "cell_type": "code",
   "execution_count": null,
   "id": "ffe9d9a7",
   "metadata": {},
   "outputs": [],
   "source": [
    "# mae_informer = mae(Y_hat_df['y'], Y_hat_df['Informer'])\n",
    "# mae_autoformer = mae(Y_hat_df['y'], Y_hat_df['Autoformer'])\n",
    "# mae_patchtst = mae(Y_hat_df['y'], Y_hat_df['PatchTST'])\n",
    "mae_tsmixer = mae(Y_hat_df['y'], Y_hat_df['TSMixer'])\n",
    "\n",
    "# print(f'Informer: {mae_informer:.3f}')\n",
    "# print(f'Autoformer: {mae_autoformer:.3f}')\n",
    "# print(f'PatchTST: {mae_patchtst:.3f}')\n",
    "print(f'TSMixer: {mae_tsmixer:.3f}')"
   ]
  },
  {
   "cell_type": "code",
   "execution_count": null,
   "id": "a1838d48",
   "metadata": {},
   "outputs": [],
   "source": []
  }
 ],
 "metadata": {
  "kernelspec": {
   "display_name": "python3",
   "language": "python",
   "name": "python3"
  }
 },
 "nbformat": 4,
 "nbformat_minor": 5
}
