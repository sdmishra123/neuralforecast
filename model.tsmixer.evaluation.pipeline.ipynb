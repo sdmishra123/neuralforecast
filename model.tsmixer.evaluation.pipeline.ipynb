{
 "cells": [
  {
   "cell_type": "markdown",
   "id": "8a1b0298",
   "metadata": {},
   "source": [
    "# 1. Installing libraries "
   ]
  },
  {
   "cell_type": "code",
   "execution_count": null,
   "id": "8e2d698f",
   "metadata": {},
   "outputs": [],
   "source": [
    "# !pip install neuralforecast datasetsforecast"
   ]
  },
  {
   "cell_type": "markdown",
   "id": "39ef6532",
   "metadata": {},
   "source": [
    "# 2. Load ETTm2 Data"
   ]
  },
  {
   "cell_type": "code",
   "execution_count": null,
   "id": "70ec5b1e",
   "metadata": {},
   "outputs": [],
   "source": [
    "import pandas as pd\n",
    "from datasetsforecast.long_horizon import LongHorizon"
   ]
  },
  {
   "cell_type": "code",
   "execution_count": null,
   "id": "e5965c36",
   "metadata": {},
   "outputs": [
    {
     "name": "stdout",
     "output_type": "stream",
     "text": [
      "57600\n",
      "11520 11520\n"
     ]
    }
   ],
   "source": [
    "# Change this to your own data to try the model\n",
    "Y_df, _, _ = LongHorizon.load(directory='./', group='ETTm2')\n",
    "Y_df['ds'] = pd.to_datetime(Y_df['ds'])\n",
    "\n",
    "n_time = len(Y_df.ds.unique())\n",
    "print(n_time)\n",
    "val_size = int(.2 * n_time)\n",
    "test_size = int(.2 * n_time)\n",
    "val_size=val_size\n",
    "test_size=test_size\n",
    "print(val_size,test_size)"
   ]
  },
  {
   "cell_type": "markdown",
   "id": "f73f9be9",
   "metadata": {},
   "source": [
    "# 3. Train models"
   ]
  },
  {
   "cell_type": "code",
   "execution_count": null,
   "id": "12e33fcd",
   "metadata": {},
   "outputs": [],
   "source": [
    "import numpy as np\n",
    "import pandas as pd\n",
    "import pytorch_lightning as pl\n",
    "import matplotlib.pyplot as plt\n",
    "\n",
    "from neuralforecast import NeuralForecast\n",
    "from neuralforecast.losses.pytorch import MAE\n",
    "from neuralforecast.core import NeuralForecast\n",
    "from neuralforecast.models import Informer, Autoformer, FEDformer, PatchTST, TSMixer"
   ]
  },
  {
   "cell_type": "code",
   "execution_count": null,
   "id": "4503784d-044a-45ee-acb3-4ddb4b4e4959",
   "metadata": {},
   "outputs": [
    {
     "name": "stderr",
     "output_type": "stream",
     "text": [
      "Seed set to 1\n"
     ]
    }
   ],
   "source": [
    "horizon  = 15\n",
    "n_series = len(Y_df.unique_id.unique())\n",
    "n_block  = 1\n",
    "ff_dim   = 16\n",
    "target_slice = None\n",
    "# print(type(n_series),n_series)\n",
    "\n",
    "models = [TSMixer(h=horizon,\n",
    "                input_size=horizon,\n",
    "                # max_steps=1000,\n",
    "                # val_check_steps=100,\n",
    "                # early_stop_patience_steps=3,\n",
    "                n_series=n_series,\n",
    "                n_block=n_block,\n",
    "                ff_dim=ff_dim,\n",
    "                target_slice = None,\n",
    "                random_seed=1)\n",
    "         ]"
   ]
  },
  {
   "cell_type": "code",
   "execution_count": null,
   "id": "1fb93f18-d6d2-4fd7-b55d-d6565444462f",
   "metadata": {},
   "outputs": [],
   "source": [
    "nf = NeuralForecast(\n",
    "    models=models,\n",
    "    freq='15min')"
   ]
  },
  {
   "cell_type": "code",
   "execution_count": null,
   "id": "6a2d1211-1867-4988-8b1d-f0ffa8c9f114",
   "metadata": {},
   "outputs": [
    {
     "name": "stderr",
     "output_type": "stream",
     "text": [
      "WARNING:tensorflow:From C:\\Users\\dhavy\\.conda\\envs\\neuralforecast\\lib\\site-packages\\keras\\src\\losses.py:2976: The name tf.losses.sparse_softmax_cross_entropy is deprecated. Please use tf.compat.v1.losses.sparse_softmax_cross_entropy instead.\n",
      "\n"
     ]
    },
    {
     "data": {
      "application/vnd.jupyter.widget-view+json": {
       "model_id": "",
       "version_major": 2,
       "version_minor": 0
      },
      "text/plain": [
       "Sanity Checking: |                                                                                            …"
      ]
     },
     "metadata": {},
     "output_type": "display_data"
    },
    {
     "data": {
      "application/vnd.jupyter.widget-view+json": {
       "model_id": "d6840f584be14b7fa72f2cb197ce8896",
       "version_major": 2,
       "version_minor": 0
      },
      "text/plain": [
       "Training: |                                                                                                   …"
      ]
     },
     "metadata": {},
     "output_type": "display_data"
    },
    {
     "data": {
      "application/vnd.jupyter.widget-view+json": {
       "model_id": "",
       "version_major": 2,
       "version_minor": 0
      },
      "text/plain": [
       "Validation: |                                                                                                 …"
      ]
     },
     "metadata": {},
     "output_type": "display_data"
    },
    {
     "data": {
      "application/vnd.jupyter.widget-view+json": {
       "model_id": "",
       "version_major": 2,
       "version_minor": 0
      },
      "text/plain": [
       "Validation: |                                                                                                 …"
      ]
     },
     "metadata": {},
     "output_type": "display_data"
    },
    {
     "data": {
      "application/vnd.jupyter.widget-view+json": {
       "model_id": "",
       "version_major": 2,
       "version_minor": 0
      },
      "text/plain": [
       "Validation: |                                                                                                 …"
      ]
     },
     "metadata": {},
     "output_type": "display_data"
    },
    {
     "data": {
      "application/vnd.jupyter.widget-view+json": {
       "model_id": "",
       "version_major": 2,
       "version_minor": 0
      },
      "text/plain": [
       "Validation: |                                                                                                 …"
      ]
     },
     "metadata": {},
     "output_type": "display_data"
    },
    {
     "data": {
      "application/vnd.jupyter.widget-view+json": {
       "model_id": "",
       "version_major": 2,
       "version_minor": 0
      },
      "text/plain": [
       "Validation: |                                                                                                 …"
      ]
     },
     "metadata": {},
     "output_type": "display_data"
    },
    {
     "data": {
      "application/vnd.jupyter.widget-view+json": {
       "model_id": "",
       "version_major": 2,
       "version_minor": 0
      },
      "text/plain": [
       "Validation: |                                                                                                 …"
      ]
     },
     "metadata": {},
     "output_type": "display_data"
    },
    {
     "data": {
      "application/vnd.jupyter.widget-view+json": {
       "model_id": "",
       "version_major": 2,
       "version_minor": 0
      },
      "text/plain": [
       "Validation: |                                                                                                 …"
      ]
     },
     "metadata": {},
     "output_type": "display_data"
    },
    {
     "data": {
      "application/vnd.jupyter.widget-view+json": {
       "model_id": "",
       "version_major": 2,
       "version_minor": 0
      },
      "text/plain": [
       "Validation: |                                                                                                 …"
      ]
     },
     "metadata": {},
     "output_type": "display_data"
    },
    {
     "data": {
      "application/vnd.jupyter.widget-view+json": {
       "model_id": "",
       "version_major": 2,
       "version_minor": 0
      },
      "text/plain": [
       "Validation: |                                                                                                 …"
      ]
     },
     "metadata": {},
     "output_type": "display_data"
    },
    {
     "data": {
      "application/vnd.jupyter.widget-view+json": {
       "model_id": "",
       "version_major": 2,
       "version_minor": 0
      },
      "text/plain": [
       "Validation: |                                                                                                 …"
      ]
     },
     "metadata": {},
     "output_type": "display_data"
    },
    {
     "data": {
      "application/vnd.jupyter.widget-view+json": {
       "model_id": "cf9d6f8f9b3d4973a9ffcaed8e9c9814",
       "version_major": 2,
       "version_minor": 0
      },
      "text/plain": [
       "Predicting: |                                                                                                 …"
      ]
     },
     "metadata": {},
     "output_type": "display_data"
    }
   ],
   "source": [
    "Y_hat_df = nf.cross_validation(df=Y_df,\n",
    "                               val_size=val_size,\n",
    "                               test_size=test_size,\n",
    "                               n_windows=None)"
   ]
  },
  {
   "cell_type": "code",
   "execution_count": null,
   "id": "8269f35a-616c-4741-9a58-f9a821d762af",
   "metadata": {},
   "outputs": [
    {
     "data": {
      "text/html": [
       "<div>\n",
       "<style scoped>\n",
       "    .dataframe tbody tr th:only-of-type {\n",
       "        vertical-align: middle;\n",
       "    }\n",
       "\n",
       "    .dataframe tbody tr th {\n",
       "        vertical-align: top;\n",
       "    }\n",
       "\n",
       "    .dataframe thead th {\n",
       "        text-align: right;\n",
       "    }\n",
       "</style>\n",
       "<table border=\"1\" class=\"dataframe\">\n",
       "  <thead>\n",
       "    <tr style=\"text-align: right;\">\n",
       "      <th></th>\n",
       "      <th>ds</th>\n",
       "      <th>cutoff</th>\n",
       "      <th>TSMixer</th>\n",
       "      <th>y</th>\n",
       "    </tr>\n",
       "    <tr>\n",
       "      <th>unique_id</th>\n",
       "      <th></th>\n",
       "      <th></th>\n",
       "      <th></th>\n",
       "      <th></th>\n",
       "    </tr>\n",
       "  </thead>\n",
       "  <tbody>\n",
       "    <tr>\n",
       "      <th>HUFL</th>\n",
       "      <td>2017-10-24 00:00:00</td>\n",
       "      <td>2017-10-23 23:45:00</td>\n",
       "      <td>-1.061760</td>\n",
       "      <td>-0.977673</td>\n",
       "    </tr>\n",
       "    <tr>\n",
       "      <th>HUFL</th>\n",
       "      <td>2017-10-24 00:15:00</td>\n",
       "      <td>2017-10-23 23:45:00</td>\n",
       "      <td>-1.032367</td>\n",
       "      <td>-0.865620</td>\n",
       "    </tr>\n",
       "    <tr>\n",
       "      <th>HUFL</th>\n",
       "      <td>2017-10-24 00:30:00</td>\n",
       "      <td>2017-10-23 23:45:00</td>\n",
       "      <td>-0.693272</td>\n",
       "      <td>-0.961624</td>\n",
       "    </tr>\n",
       "    <tr>\n",
       "      <th>HUFL</th>\n",
       "      <td>2017-10-24 00:45:00</td>\n",
       "      <td>2017-10-23 23:45:00</td>\n",
       "      <td>-0.618313</td>\n",
       "      <td>-1.049700</td>\n",
       "    </tr>\n",
       "    <tr>\n",
       "      <th>HUFL</th>\n",
       "      <td>2017-10-24 01:00:00</td>\n",
       "      <td>2017-10-23 23:45:00</td>\n",
       "      <td>-0.641085</td>\n",
       "      <td>-0.953600</td>\n",
       "    </tr>\n",
       "  </tbody>\n",
       "</table>\n",
       "</div>"
      ],
      "text/plain": [
       "                           ds              cutoff   TSMixer         y\n",
       "unique_id                                                            \n",
       "HUFL      2017-10-24 00:00:00 2017-10-23 23:45:00 -1.061760 -0.977673\n",
       "HUFL      2017-10-24 00:15:00 2017-10-23 23:45:00 -1.032367 -0.865620\n",
       "HUFL      2017-10-24 00:30:00 2017-10-23 23:45:00 -0.693272 -0.961624\n",
       "HUFL      2017-10-24 00:45:00 2017-10-23 23:45:00 -0.618313 -1.049700\n",
       "HUFL      2017-10-24 01:00:00 2017-10-23 23:45:00 -0.641085 -0.953600"
      ]
     },
     "execution_count": null,
     "metadata": {},
     "output_type": "execute_result"
    }
   ],
   "source": [
    "Y_hat_df.head()"
   ]
  },
  {
   "cell_type": "markdown",
   "id": "fa464bbb",
   "metadata": {},
   "source": [
    "# 4. Evaluate Results"
   ]
  },
  {
   "cell_type": "code",
   "execution_count": null,
   "id": "d2a16d4b",
   "metadata": {},
   "outputs": [],
   "source": [
    "import matplotlib.pyplot as plt\n",
    "Y_hat_df_v1 = Y_hat_df.reset_index(drop=False).drop(columns=['unique_id','ds','cutoff','TSMixer','y'])\n",
    "Y_hat_df_v1 = Y_hat_df\n",
    "Y_hat_df_v1['unique_id'] = Y_hat_df_v1.index\n",
    "# Y_hat_df_v1.head()"
   ]
  },
  {
   "cell_type": "code",
   "execution_count": null,
   "id": "a81207b4-68e0-49d4-8fb1-93e9dd9e29b6",
   "metadata": {},
   "outputs": [
    {
     "name": "stdout",
     "output_type": "stream",
     "text": [
      "TSMixer MAE: 0.620\n",
      "TSMixer MAPE: 2.191\n"
     ]
    }
   ],
   "source": [
    "from neuralforecast.losses.numpy import mae,mape\n",
    "# mae_informer = mae(Y_hat_df['y'], Y_hat_df['Informer'])\n",
    "# mae_autoformer = mae(Y_hat_df['y'], Y_hat_df['Autoformer'])\n",
    "# mae_patchtst = mae(Y_hat_df['y'], Y_hat_df['PatchTST'])\n",
    "mae_tsmixer = mae(Y_hat_df['y'], Y_hat_df['TSMixer'])\n",
    "mape_tsmixer = mape(Y_hat_df['y'], Y_hat_df['TSMixer'])\n",
    "\n",
    "# print(f'Informer: {mae_informer:.3f}')\n",
    "# print(f'Autoformer: {mae_autoformer:.3f}')\n",
    "# print(f'PatchTST: {mae_patchtst:.3f}')\n",
    "print(f'TSMixer MAE: {mae_tsmixer:.3f}')\n",
    "print(f'TSMixer MAPE: {mape_tsmixer:.3f}')"
   ]
  },
  {
   "cell_type": "code",
   "execution_count": null,
   "id": "8f1db0fd-816c-4ff2-90bf-a04e2ff4f7bc",
   "metadata": {},
   "outputs": [],
   "source": [
    "# #| export\n",
    "# Y_hat_df_v1['ds'] = pd.to_datetime(Y_hat_df_v1['ds'])\n",
    "# max_date = Y_hat_df_v1['ds'].max()\n",
    "# print(max_date)\n",
    "\n",
    "# Y_hat_df_v2 = Y_hat_df_v1[Y_hat_df_v1[\"ds\"] >= \"2018-01-01 23:45:50\"]\n",
    "# len(Y_hat_df_v2[Y_hat_df_v2['unique_id']=='OT'] )"
   ]
  },
  {
   "cell_type": "code",
   "execution_count": null,
   "id": "a3b7ed40",
   "metadata": {},
   "outputs": [],
   "source": [
    "# Y_plot = Y_hat_df_v2[Y_hat_df_v2['unique_id']=='OT'] # OT dataset\n",
    "# cutoffs = Y_hat_df_v2['cutoff'].unique()[::horizon]\n",
    "# Y_plot = Y_plot[Y_hat_df_v2['cutoff'].isin(cutoffs)]\n",
    "\n",
    "# plt.figure(figsize=(20,5))\n",
    "# plt.plot(Y_plot['ds'], Y_plot['y'], label='True')\n",
    "# # plt.plot(Y_plot['ds'], Y_plot['Informer'], label='Informer')\n",
    "# # plt.plot(Y_plot['ds'], Y_plot['Autoformer'], label='Autoformer')\n",
    "# # plt.plot(Y_plot['ds'], Y_plot['PatchTST'], label='PatchTST')\n",
    "# plt.plot(Y_plot['ds'], Y_plot['TSMixer'], label='TSMixer')\n",
    "# plt.xlabel('Datestamp')\n",
    "# plt.ylabel('OT')\n",
    "# plt.grid()\n",
    "# plt.legend()"
   ]
  },
  {
   "cell_type": "code",
   "execution_count": null,
   "id": "ffe9d9a7",
   "metadata": {},
   "outputs": [],
   "source": []
  },
  {
   "cell_type": "code",
   "execution_count": null,
   "id": "a1838d48",
   "metadata": {},
   "outputs": [],
   "source": []
  },
  {
   "cell_type": "code",
   "execution_count": null,
   "id": "b5cc1257-7529-476d-9c5b-9c7cb80ce644",
   "metadata": {},
   "outputs": [],
   "source": []
  }
 ],
 "metadata": {
  "kernelspec": {
   "display_name": "python3",
   "language": "python",
   "name": "python3"
  }
 },
 "nbformat": 4,
 "nbformat_minor": 5
}
